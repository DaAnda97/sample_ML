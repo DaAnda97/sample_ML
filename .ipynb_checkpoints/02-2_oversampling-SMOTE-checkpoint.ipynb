{
 "cells": [
  {
   "cell_type": "code",
   "execution_count": 1,
   "metadata": {},
   "outputs": [],
   "source": [
    "import pandas as pd\n",
    "import numpy as np\n",
    "np.random.seed(42)\n",
    "\n",
    "from matplotlib import pyplot as plt\n",
    "import seaborn as sns"
   ]
  },
  {
   "cell_type": "code",
   "execution_count": 6,
   "metadata": {},
   "outputs": [],
   "source": [
    "# seaborn short calls\n",
    "import copy\n",
    "\n",
    "def barplot(df, label):\n",
    "    print(df['OUT'].value_counts())\n",
    "    \n",
    "    fig = sns.barplot(x=df[label].value_counts().index, y=df[label].value_counts())\n",
    "    #return fig\n",
    "\n",
    "\n",
    "def boxplot(df, label):\n",
    "    plt.figure(figsize=(15,12))\n",
    "    df_long = pd.melt(df, id_vars=label)\n",
    "    \n",
    "    fig = sns.boxplot(x='variable', y='value', data=df_long, hue=label)\n",
    "    #return fig\n",
    "\n",
    "\n",
    "def stripplot(df, label):\n",
    "    plt.figure(figsize=(15,12))\n",
    "    df_long = pd.melt(df, id_vars=label)\n",
    "    \n",
    "    fig = sns.stripplot(x='variable', y='value', data=df_long, hue=label, jitter=True)\n",
    "    #return fig\n",
    "\n",
    "\n",
    "def pairplot(df, label, vars=None):\n",
    "    if(vars==None):\n",
    "        vars=list(df.columns.values)\n",
    "        vars.remove(label)\n",
    "        \n",
    "    fig = sns.pairplot(df, hue=label, vars=vars)\n",
    "    #return fig\n",
    "\n",
    "\n",
    "def distplots(df_org, label, vars=None):\n",
    "    # init\n",
    "    classes = list(map(str,df_org[label].unique()))\n",
    "    indices = list(range(len(classes)))\n",
    "    colors = sns.color_palette(\"husl\", len(classes))\n",
    "    \n",
    "    # convert labels in df in str (for comparism)\n",
    "    df = copy.deepcopy(df_org)\n",
    "    df[label] = df[label].astype(str)\n",
    "    \n",
    "    # vars = all column-names without label-name\n",
    "    if(vars==None):\n",
    "        vars=list(df.columns.values)\n",
    "        vars.remove(label)\n",
    "    \n",
    "    # plot\n",
    "    fig, axs = plt.subplots(len(vars), len(classes), figsize=(3*len(classes), 3*len(vars)))\n",
    "    fig.subplots_adjust(hspace=0.4, wspace=0.4)\n",
    "    \n",
    "    for col in vars:\n",
    "        for currentClass in classes:\n",
    "            df_current = df[df[label] == currentClass]\n",
    "            x_pos = classes.index(currentClass)\n",
    "            y_pos = vars.index(col)\n",
    "            title = \"col={} & class={}\".format(col, currentClass)\n",
    "            \n",
    "            dist = sns.distplot(df_current[col], color=colors[x_pos], ax=axs[y_pos, x_pos])\n",
    "            dist.set_title(title)\n",
    "            dist.set_xlabel('')\n",
    "    \n",
    "    #return fig"
   ]
  },
  {
   "cell_type": "markdown",
   "metadata": {},
   "source": [
    "# 1) FIRST LOOK"
   ]
  },
  {
   "cell_type": "code",
   "execution_count": 9,
   "metadata": {},
   "outputs": [],
   "source": [
    "df_train = pd.read_csv('data/genosharing-train.csv')\n",
    "\n",
    "X_train = df_train.drop('OUT', axis=1)\n",
    "Y_train = df_train['OUT']"
   ]
  },
  {
   "cell_type": "markdown",
   "metadata": {},
   "source": [
    "## 3.2 with SMOTE\n",
    "https://imbalanced-learn.readthedocs.io/en/stable/generated/imblearn.over_sampling.SMOTE.html"
   ]
  },
  {
   "cell_type": "code",
   "execution_count": 10,
   "metadata": {},
   "outputs": [],
   "source": [
    "sm = SMOTE()\n",
    "X_train_res, Y_train_res = sm.fit_sample(X_train, Y_train)"
   ]
  },
  {
   "cell_type": "code",
   "execution_count": 11,
   "metadata": {},
   "outputs": [
    {
     "data": {
      "text/html": [
       "<div>\n",
       "<style scoped>\n",
       "    .dataframe tbody tr th:only-of-type {\n",
       "        vertical-align: middle;\n",
       "    }\n",
       "\n",
       "    .dataframe tbody tr th {\n",
       "        vertical-align: top;\n",
       "    }\n",
       "\n",
       "    .dataframe thead th {\n",
       "        text-align: right;\n",
       "    }\n",
       "</style>\n",
       "<table border=\"1\" class=\"dataframe\">\n",
       "  <thead>\n",
       "    <tr style=\"text-align: right;\">\n",
       "      <th></th>\n",
       "      <th>IN-1</th>\n",
       "      <th>IN-2</th>\n",
       "      <th>IN-3</th>\n",
       "      <th>IN-4</th>\n",
       "      <th>OUT</th>\n",
       "    </tr>\n",
       "  </thead>\n",
       "  <tbody>\n",
       "    <tr>\n",
       "      <th>0</th>\n",
       "      <td>-11</td>\n",
       "      <td>-7</td>\n",
       "      <td>19</td>\n",
       "      <td>-20</td>\n",
       "      <td>0</td>\n",
       "    </tr>\n",
       "    <tr>\n",
       "      <th>1</th>\n",
       "      <td>14</td>\n",
       "      <td>4</td>\n",
       "      <td>-28</td>\n",
       "      <td>29</td>\n",
       "      <td>0</td>\n",
       "    </tr>\n",
       "    <tr>\n",
       "      <th>2</th>\n",
       "      <td>0</td>\n",
       "      <td>4</td>\n",
       "      <td>-1</td>\n",
       "      <td>-4</td>\n",
       "      <td>0</td>\n",
       "    </tr>\n",
       "    <tr>\n",
       "      <th>3</th>\n",
       "      <td>-14</td>\n",
       "      <td>7</td>\n",
       "      <td>5</td>\n",
       "      <td>-16</td>\n",
       "      <td>0</td>\n",
       "    </tr>\n",
       "    <tr>\n",
       "      <th>4</th>\n",
       "      <td>-13</td>\n",
       "      <td>6</td>\n",
       "      <td>-72</td>\n",
       "      <td>-24</td>\n",
       "      <td>0</td>\n",
       "    </tr>\n",
       "  </tbody>\n",
       "</table>\n",
       "</div>"
      ],
      "text/plain": [
       "   IN-1  IN-2  IN-3  IN-4  OUT\n",
       "0   -11    -7    19   -20    0\n",
       "1    14     4   -28    29    0\n",
       "2     0     4    -1    -4    0\n",
       "3   -14     7     5   -16    0\n",
       "4   -13     6   -72   -24    0"
      ]
     },
     "execution_count": 11,
     "metadata": {},
     "output_type": "execute_result"
    }
   ],
   "source": [
    "X_train_res = pd.DataFrame(X_train_res, columns=[\"IN-1\", \"IN-2\", \"IN-3\", \"IN-4\"])\n",
    "Y_train_res = pd.DataFrame(Y_train_res, columns=[\"OUT\"])\n",
    "\n",
    "df_train_over = pd.concat([X_train_res, Y_train_res], axis=1)\n",
    "\n",
    "df_train_over.head()"
   ]
  },
  {
   "cell_type": "code",
   "execution_count": 14,
   "metadata": {},
   "outputs": [
    {
     "name": "stdout",
     "output_type": "stream",
     "text": [
      "-1    1978\n",
      " 1    1978\n",
      " 0    1978\n",
      "Name: OUT, dtype: int64\n"
     ]
    },
    {
     "data": {
      "image/png": "[encoded data removed]",
      "text/plain": [
       "<Figure size 432x288 with 1 Axes>"
      ]
     },
     "metadata": {
      "needs_background": "light"
     },
     "output_type": "display_data"
    }
   ],
   "source": [
    "barplot(df_train_over, \"OUT\")"
   ]
  },
  {
   "cell_type": "code",
   "execution_count": 15,
   "metadata": {},
   "outputs": [
    {
     "ename": "NameError",
     "evalue": "name 'plt' is not defined",
     "output_type": "error",
     "traceback": [
      "\u001b[0;31m---------------------------------------------------------------------------\u001b[0m",
      "\u001b[0;31mNameError\u001b[0m                                 Traceback (most recent call last)",
      "\u001b[0;32m<ipython-input-15-1499b357066e>\u001b[0m in \u001b[0;36m<module>\u001b[0;34m\u001b[0m\n\u001b[0;32m----> 1\u001b[0;31m \u001b[0mdistplots\u001b[0m\u001b[0;34m(\u001b[0m\u001b[0mdf_train_over\u001b[0m\u001b[0;34m,\u001b[0m \u001b[0;34m\"OUT\"\u001b[0m\u001b[0;34m)\u001b[0m\u001b[0;34m\u001b[0m\u001b[0;34m\u001b[0m\u001b[0m\n\u001b[0m",
      "\u001b[0;32m<ipython-input-6-fdff7d961d61>\u001b[0m in \u001b[0;36mdistplots\u001b[0;34m(df_org, label, vars)\u001b[0m\n\u001b[1;32m     50\u001b[0m \u001b[0;34m\u001b[0m\u001b[0m\n\u001b[1;32m     51\u001b[0m     \u001b[0;31m# plot\u001b[0m\u001b[0;34m\u001b[0m\u001b[0;34m\u001b[0m\u001b[0;34m\u001b[0m\u001b[0m\n\u001b[0;32m---> 52\u001b[0;31m     \u001b[0mfig\u001b[0m\u001b[0;34m,\u001b[0m \u001b[0maxs\u001b[0m \u001b[0;34m=\u001b[0m \u001b[0mplt\u001b[0m\u001b[0;34m.\u001b[0m\u001b[0msubplots\u001b[0m\u001b[0;34m(\u001b[0m\u001b[0mlen\u001b[0m\u001b[0;34m(\u001b[0m\u001b[0mvars\u001b[0m\u001b[0;34m)\u001b[0m\u001b[0;34m,\u001b[0m \u001b[0mlen\u001b[0m\u001b[0;34m(\u001b[0m\u001b[0mclasses\u001b[0m\u001b[0;34m)\u001b[0m\u001b[0;34m,\u001b[0m \u001b[0mfigsize\u001b[0m\u001b[0;34m=\u001b[0m\u001b[0;34m(\u001b[0m\u001b[0;36m3\u001b[0m\u001b[0;34m*\u001b[0m\u001b[0mlen\u001b[0m\u001b[0;34m(\u001b[0m\u001b[0mclasses\u001b[0m\u001b[0;34m)\u001b[0m\u001b[0;34m,\u001b[0m \u001b[0;36m3\u001b[0m\u001b[0;34m*\u001b[0m\u001b[0mlen\u001b[0m\u001b[0;34m(\u001b[0m\u001b[0mvars\u001b[0m\u001b[0;34m)\u001b[0m\u001b[0;34m)\u001b[0m\u001b[0;34m)\u001b[0m\u001b[0;34m\u001b[0m\u001b[0;34m\u001b[0m\u001b[0m\n\u001b[0m\u001b[1;32m     53\u001b[0m     \u001b[0mfig\u001b[0m\u001b[0;34m.\u001b[0m\u001b[0msubplots_adjust\u001b[0m\u001b[0;34m(\u001b[0m\u001b[0mhspace\u001b[0m\u001b[0;34m=\u001b[0m\u001b[0;36m0.4\u001b[0m\u001b[0;34m,\u001b[0m \u001b[0mwspace\u001b[0m\u001b[0;34m=\u001b[0m\u001b[0;36m0.4\u001b[0m\u001b[0;34m)\u001b[0m\u001b[0;34m\u001b[0m\u001b[0;34m\u001b[0m\u001b[0m\n\u001b[1;32m     54\u001b[0m \u001b[0;34m\u001b[0m\u001b[0m\n",
      "\u001b[0;31mNameError\u001b[0m: name 'plt' is not defined"
     ]
    }
   ],
   "source": [
    "distplots(df_train_over, \"OUT\")"
   ]
  },
  {
   "cell_type": "code",
   "execution_count": null,
   "metadata": {},
   "outputs": [],
   "source": []
  }
 ],
 "metadata": {
  "kernelspec": {
   "display_name": "Python 3",
   "language": "python",
   "name": "python3"
  },
  "language_info": {
   "codemirror_mode": {
    "name": "ipython",
    "version": 3
   },
   "file_extension": ".py",
   "mimetype": "text/x-python",
   "name": "python",
   "nbconvert_exporter": "python",
   "pygments_lexer": "ipython3",
   "version": "3.6.7"
  }
 },
 "nbformat": 4,
 "nbformat_minor": 2
}
